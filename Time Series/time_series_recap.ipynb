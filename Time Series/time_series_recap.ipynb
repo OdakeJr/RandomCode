{
 "cells": [
  {
   "cell_type": "markdown",
   "metadata": {},
   "source": [
    "# 📘 Time Series Forecasting with Synthetic Data (Univariate)\n",
    "\n",
    "## 1. Generate Synthetic Time Series\n",
    "- Create signal with: trend + seasonality + noise\n",
    "- Optional: additive or multiplicative pattern\n",
    "- Plot the raw time series\n",
    "\n",
    "## 2. Exploratory Analysis\n",
    "- Line plot\n",
    "- Seasonal plot\n",
    "- ACF & PACF\n",
    "- Rolling mean & std\n",
    "\n",
    "## 3. Decomposition\n",
    "- Classical additive decomposition\n",
    "- STL decomposition\n",
    "- Compare and visualize trend/seasonal/residuals\n",
    "\n",
    "## 4. Preprocessing\n",
    "- Differencing\n",
    "- Detrending\n",
    "- Deseasonalizing\n",
    "- Scaling\n",
    "- Train-test split (time-aware)\n",
    "\n",
    "## 5. Classical Models\n",
    "- ARIMA (manual p,d,q using ACF/PACF)\n",
    "- SARIMA (with seasonality)\n",
    "- Exponential Smoothing\n",
    "- Compare forecasts visually & numerically\n",
    "\n",
    "## 6. Machine Learning Models\n",
    "- Create supervised dataset (lag features)\n",
    "- Train/test split\n",
    "- Models: Linear Regression, Random Forest, XGBoost\n",
    "- Evaluate with MAE, RMSE\n",
    "\n",
    "## 7. Deep Learning Models\n",
    "- Define LSTM or GRU model\n",
    "- Train and predict\n",
    "- Plot predictions vs. ground truth\n",
    "- Compare to previous models\n",
    "\n",
    "## 8. Model Evaluation & Comparison\n",
    "- Plot all forecasts together\n",
    "- Table of metrics (MAE, RMSE, MAPE)\n",
    "- Visual and quantitative comparison\n",
    "\n",
    "## 9. (Optional) Expand to Multivariate\n",
    "- Add additional synthetic regressors\n",
    "- Repeat decomposition, modeling, comparison\n"
   ]
  },
  {
   "cell_type": "markdown",
   "metadata": {},
   "source": [
    "https://www.kaggle.com/code/prashant111/complete-guide-on-time-series-analysis-in-python\n",
    "https://www.kaggle.com/code/prashant111/arima-model-for-time-series-forecasting"
   ]
  },
  {
   "cell_type": "code",
   "execution_count": null,
   "metadata": {},
   "outputs": [],
   "source": []
  }
 ],
 "metadata": {
  "language_info": {
   "name": "python"
  }
 },
 "nbformat": 4,
 "nbformat_minor": 2
}
